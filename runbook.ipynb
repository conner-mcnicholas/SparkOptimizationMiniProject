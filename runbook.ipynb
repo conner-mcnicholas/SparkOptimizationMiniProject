{
 "cells": [
  {
   "cell_type": "code",
   "execution_count": 1,
   "id": "98d83ab3",
   "metadata": {},
   "outputs": [],
   "source": [
    "import pyspark\n",
    "from pyspark.sql import SparkSession\n",
    "from pyspark.sql.functions import col, count, month"
   ]
  },
  {
   "cell_type": "code",
   "execution_count": 2,
   "id": "8ebb3ee9",
   "metadata": {},
   "outputs": [
    {
     "name": "stderr",
     "output_type": "stream",
     "text": [
      "22/06/11 09:43:09 WARN Utils: Your hostname, Linuxclevo resolves to a loopback address: 127.0.1.1; using 10.0.1.137 instead (on interface wlp2s0)\n",
      "22/06/11 09:43:09 WARN Utils: Set SPARK_LOCAL_IP if you need to bind to another address\n",
      "WARNING: An illegal reflective access operation has occurred\n",
      "WARNING: Illegal reflective access by org.apache.spark.unsafe.Platform (file:/home/admin/.local/lib/python3.10/site-packages/pyspark/jars/spark-unsafe_2.12-3.2.1.jar) to constructor java.nio.DirectByteBuffer(long,int)\n",
      "WARNING: Please consider reporting this to the maintainers of org.apache.spark.unsafe.Platform\n",
      "WARNING: Use --illegal-access=warn to enable warnings of further illegal reflective access operations\n",
      "WARNING: All illegal access operations will be denied in a future release\n",
      "Using Spark's default log4j profile: org/apache/spark/log4j-defaults.properties\n",
      "Setting default log level to \"WARN\".\n",
      "To adjust logging level use sc.setLogLevel(newLevel). For SparkR, use setLogLevel(newLevel).\n",
      "22/06/11 09:43:09 WARN NativeCodeLoader: Unable to load native-hadoop library for your platform... using builtin-java classes where applicable\n"
     ]
    }
   ],
   "source": [
    "import os\n",
    "\n",
    "spark = SparkSession.builder.appName('Optimize I').getOrCreate()\n",
    "\n",
    "base_path = os.getcwd()\n",
    "\n",
    "project_path = ('/').join(base_path.split('/')[0:-3])\n",
    "\n",
    "answers_input_path = os.path.join(project_path, 'data/answers')\n",
    "\n",
    "questions_input_path = os.path.join(project_path, 'data/questions')"
   ]
  },
  {
   "cell_type": "code",
   "execution_count": 3,
   "id": "d421aac9",
   "metadata": {},
   "outputs": [],
   "source": [
    "#spark.conf.set(\"spark.sql.adaptive.enabled\",False)\n",
    "#spark.conf.get(\"spark.sql.adaptive.enabled\")"
   ]
  },
  {
   "cell_type": "code",
   "execution_count": 4,
   "id": "54289d59",
   "metadata": {},
   "outputs": [
    {
     "name": "stderr",
     "output_type": "stream",
     "text": [
      "\r",
      "[Stage 0:>                                                          (0 + 1) / 1]\r",
      "\r",
      "                                                                                \r"
     ]
    }
   ],
   "source": [
    "#job 0 init\n",
    "answersDF = spark.read.option('path', answers_input_path).load()"
   ]
  },
  {
   "cell_type": "code",
   "execution_count": 5,
   "id": "e11981f4",
   "metadata": {},
   "outputs": [],
   "source": [
    "#job 1 init\n",
    "questionsDF = spark.read.option('path', questions_input_path).load()"
   ]
  },
  {
   "cell_type": "code",
   "execution_count": 6,
   "id": "730a77ce",
   "metadata": {},
   "outputs": [],
   "source": [
    "#job 1 6\n",
    "#questionsDF = spark.read.option('path', questions_input_path).load().coalesce(3)"
   ]
  },
  {
   "cell_type": "code",
   "execution_count": 7,
   "id": "5c7c21b3",
   "metadata": {},
   "outputs": [],
   "source": [
    "#job 2 init\n",
    "answers_month = answersDF.withColumn('month', month('creation_date')) \\\n",
    "    .groupBy('question_id', 'month').agg(count('*').alias('cnt'))"
   ]
  },
  {
   "cell_type": "code",
   "execution_count": 8,
   "id": "6d2a8566",
   "metadata": {},
   "outputs": [],
   "source": [
    "#job 2 1\n",
    "#answers_month = answersDF.select('question_id','answer_id','creation_date','comments','user_id','score', \\\n",
    "#                                 month(col('creation_date')).alias('month')). \\\n",
    "#                                groupBy('question_id', 'month').agg(count('question_id').alias('cnt'))"
   ]
  },
  {
   "cell_type": "code",
   "execution_count": 9,
   "id": "1eb44bc1",
   "metadata": {},
   "outputs": [],
   "source": [
    "#job 2 2\n",
    "#answers_month = answersDF.repartition('question_id').withColumn('month', month('creation_date')). \\\n",
    "#    groupBy('question_id', 'month').agg(count('*').alias('cnt'))"
   ]
  },
  {
   "cell_type": "code",
   "execution_count": 10,
   "id": "dd952e4e",
   "metadata": {},
   "outputs": [],
   "source": [
    "#job 2 3\n",
    "#answers_month = answersDF.withColumn('month', month('creation_date')).groupBy('question_id', 'month'). \\\n",
    "#    agg(count('*').alias('cnt')).coalesce(4)"
   ]
  },
  {
   "cell_type": "code",
   "execution_count": 11,
   "id": "0d4a8d28",
   "metadata": {},
   "outputs": [],
   "source": [
    "#job 2 me\n",
    "#answers_month = answersDF.withColumn('month', month('creation_date')).groupBy('question_id', 'month'). \\\n",
    "#    agg(count('*').alias('cnt')).coalesce(3)\n",
    "#answers_month = answersDF.withColumn('month', month('creation_date')).groupBy('question_id', 'month'). \\\n",
    "#    agg(count('*').alias('cnt'))"
   ]
  },
  {
   "cell_type": "code",
   "execution_count": 12,
   "id": "9a35a7e5",
   "metadata": {},
   "outputs": [],
   "source": [
    "#job 3 init\n",
    "resultDF = questionsDF.join(answers_month, 'question_id') \\\n",
    "    .select('question_id', 'creation_date', 'title', 'month', 'cnt')"
   ]
  },
  {
   "cell_type": "code",
   "execution_count": 13,
   "id": "8a3769a1",
   "metadata": {},
   "outputs": [],
   "source": [
    "#job 3 \n",
    "#answers_month.cache()\n",
    "#resultDF = questionsDF.join(answers_month, 'question_id') \\\n",
    "#    .select('question_id', 'creation_date', 'title', 'month', 'cnt')"
   ]
  },
  {
   "cell_type": "code",
   "execution_count": null,
   "id": "7e31ff58",
   "metadata": {},
   "outputs": [],
   "source": [
    "#job 4\n",
    "#questionsDF.cache()\n",
    "#resultDF = questionsDF.join(answers_month, 'question_id') \\\n",
    "#    .select('question_id', 'creation_date', 'title', 'month', 'cnt')"
   ]
  },
  {
   "cell_type": "code",
   "execution_count": null,
   "id": "77b238c8",
   "metadata": {},
   "outputs": [],
   "source": [
    "#job 5\n",
    "#answers_month.cache()\n",
    "#questionsDF.cache()\n",
    "#resultDF = questionsDF.join(answers_month, 'question_id') \\\n",
    "#    .select('question_id', 'creation_date', 'title', 'month', 'cnt')"
   ]
  },
  {
   "cell_type": "code",
   "execution_count": 14,
   "id": "ecad9d5d",
   "metadata": {},
   "outputs": [],
   "source": [
    "#job 3 1\n",
    "#resultDF = answers_month.join(questionsDF, 'question_id', how='left'). \\\n",
    "#    select('question_id', 'creation_date', 'title', 'month', 'cnt')"
   ]
  },
  {
   "cell_type": "code",
   "execution_count": 15,
   "id": "672f9e98",
   "metadata": {},
   "outputs": [
    {
     "name": "stderr",
     "output_type": "stream",
     "text": [
      "                                                                                \r"
     ]
    },
    {
     "name": "stdout",
     "output_type": "stream",
     "text": [
      "+-----------+--------------------+--------------------+-----+---+\n",
      "|question_id|       creation_date|               title|month|cnt|\n",
      "+-----------+--------------------+--------------------+-----+---+\n",
      "|     155989|2014-12-31 17:59:...|Frost bubble form...|    2|  1|\n",
      "|     155989|2014-12-31 17:59:...|Frost bubble form...|   12|  1|\n",
      "|     155990|2014-12-31 18:51:...|The abstract spac...|    1|  1|\n",
      "|     155990|2014-12-31 18:51:...|The abstract spac...|   12|  1|\n",
      "|     155992|2014-12-31 19:44:...|centrifugal force...|   12|  1|\n",
      "|     155993|2014-12-31 19:56:...|How can I estimat...|    1|  1|\n",
      "|     155995|2014-12-31 21:16:...|Why should a solu...|    1|  3|\n",
      "|     155996|2014-12-31 22:06:...|Why do we assume ...|    1|  2|\n",
      "|     155996|2014-12-31 22:06:...|Why do we assume ...|    2|  1|\n",
      "|     155996|2014-12-31 22:06:...|Why do we assume ...|   11|  1|\n",
      "|     155997|2014-12-31 22:26:...|Why do square sha...|    1|  3|\n",
      "|     155999|2014-12-31 23:01:...|Diagonalizability...|    1|  1|\n",
      "|     156008|2015-01-01 00:48:...|Capturing a light...|    1|  2|\n",
      "|     156008|2015-01-01 00:48:...|Capturing a light...|   11|  1|\n",
      "|     156016|2015-01-01 02:31:...|The interference ...|    1|  1|\n",
      "|     156020|2015-01-01 03:19:...|What is going on ...|    1|  1|\n",
      "|     156021|2015-01-01 03:21:...|How to calculate ...|    2|  1|\n",
      "|     156022|2015-01-01 03:55:...|Advice on Major S...|    1|  1|\n",
      "|     156025|2015-01-01 04:32:...|Deriving the Cano...|    1|  1|\n",
      "|     156026|2015-01-01 04:49:...|Does Bell's inequ...|    1|  3|\n",
      "+-----------+--------------------+--------------------+-----+---+\n",
      "only showing top 20 rows\n",
      "\n"
     ]
    }
   ],
   "source": [
    "#job 4 init\n",
    "resultDF.orderBy('question_id', 'month').show()"
   ]
  },
  {
   "cell_type": "code",
   "execution_count": 16,
   "id": "3080c901",
   "metadata": {},
   "outputs": [],
   "source": [
    "#answers_month = answers_month.repartition(4)\n",
    "#answers_month.rdd.getNumPartitions()\n",
    "#questionsDF.rdd.getNumPartitions()"
   ]
  }
 ],
 "metadata": {
  "kernelspec": {
   "display_name": "Python 3 (ipykernel)",
   "language": "python",
   "name": "python3"
  },
  "language_info": {
   "codemirror_mode": {
    "name": "ipython",
    "version": 3
   },
   "file_extension": ".py",
   "mimetype": "text/x-python",
   "name": "python",
   "nbconvert_exporter": "python",
   "pygments_lexer": "ipython3",
   "version": "3.10.4"
  }
 },
 "nbformat": 4,
 "nbformat_minor": 5
}
