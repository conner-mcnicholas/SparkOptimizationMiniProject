{
 "cells": [
  {
   "cell_type": "code",
   "execution_count": 41,
   "metadata": {},
   "outputs": [],
   "source": [
    "import pyspark\n",
    "from pyspark.sql import SparkSession\n",
    "from pyspark.sql.functions import col, count, month, year, date_format, length, size, concat_ws,lit"
   ]
  },
  {
   "cell_type": "code",
   "execution_count": 2,
   "metadata": {},
   "outputs": [],
   "source": [
    "import os\n",
    "\n",
    "spark = SparkSession.builder.appName('Optimize I').getOrCreate()\n",
    "\n",
    "#base_path = os.getcwd()\n",
    "\n",
    "#project_path = ('/').join(base_path.split('/')[0:-3])\n",
    "\n",
    "#answers_input_path = os.path.join(project_path, 'data/answers')\n",
    "\n",
    "#questions_input_path = os.path.join(project_path, 'data/questions')"
   ]
  },
  {
   "cell_type": "code",
   "execution_count": 3,
   "metadata": {},
   "outputs": [],
   "source": [
    "answers_input_path = os.getcwd()+'/data/answers'\n",
    "questions_input_path = os.getcwd()+'/data/questions'"
   ]
  },
  {
   "cell_type": "code",
   "execution_count": 4,
   "metadata": {},
   "outputs": [],
   "source": [
    "#job 0\n",
    "answersDF = spark.read.option('path', answers_input_path).load()"
   ]
  },
  {
   "cell_type": "code",
   "execution_count": 5,
   "metadata": {},
   "outputs": [],
   "source": [
    "#job 1\n",
    "questionsDF = spark.read.option('path', questions_input_path).load()"
   ]
  },
  {
   "cell_type": "code",
   "execution_count": 6,
   "metadata": {},
   "outputs": [],
   "source": [
    "#job 2\n",
    "answers_month = answersDF.withColumn('month', month('creation_date')) \\\n",
    "    .groupBy('question_id', 'month').agg(count('*').alias('cnt'))"
   ]
  },
  {
   "cell_type": "code",
   "execution_count": 7,
   "metadata": {},
   "outputs": [],
   "source": [
    "#job 3\n",
    "resultDF = questionsDF.join(answers_month, 'question_id') \\\n",
    "    .select('question_id', 'creation_date', 'title', 'month', 'cnt')"
   ]
  },
  {
   "cell_type": "code",
   "execution_count": 8,
   "metadata": {},
   "outputs": [
    {
     "name": "stderr",
     "output_type": "stream",
     "text": [
      "                                                                                \r"
     ]
    },
    {
     "name": "stdout",
     "output_type": "stream",
     "text": [
      "+-----------+-----------------------+-------------------------------------------------------------+-----+---+\n",
      "|question_id|creation_date          |title                                                        |month|cnt|\n",
      "+-----------+-----------------------+-------------------------------------------------------------+-----+---+\n",
      "|155989     |2014-12-31 17:59:44.5  |Frost bubble formation                                       |2    |1  |\n",
      "|155989     |2014-12-31 17:59:44.5  |Frost bubble formation                                       |12   |1  |\n",
      "|155990     |2014-12-31 18:51:15.123|The abstract space of metrics in GR                          |1    |1  |\n",
      "|155990     |2014-12-31 18:51:15.123|The abstract space of metrics in GR                          |12   |1  |\n",
      "|155992     |2014-12-31 19:44:10.697|centrifugal force and radius of its circle                   |12   |1  |\n",
      "|155993     |2014-12-31 19:56:29.603|How can I estimate the cooking time of a roast?              |1    |1  |\n",
      "|155995     |2014-12-31 21:16:25.627|Why should a solution to the wave equation be finite?        |1    |3  |\n",
      "|155996     |2014-12-31 22:06:08.907|Why do we assume that rays from infinity are parallel?       |1    |2  |\n",
      "|155996     |2014-12-31 22:06:08.907|Why do we assume that rays from infinity are parallel?       |2    |1  |\n",
      "|155996     |2014-12-31 22:06:08.907|Why do we assume that rays from infinity are parallel?       |11   |1  |\n",
      "|155997     |2014-12-31 22:26:33.447|Why do square shaped cups spill easier than round cups?      |1    |3  |\n",
      "|155999     |2014-12-31 23:01:46.457|Diagonalizability as a measure of uncertainty (discrete case)|1    |1  |\n",
      "|156008     |2015-01-01 00:48:08.383|Capturing a light beam                                       |1    |2  |\n",
      "|156008     |2015-01-01 00:48:08.383|Capturing a light beam                                       |11   |1  |\n",
      "|156016     |2015-01-01 02:31:17.42 |The interference pattern of a wave along a line              |1    |1  |\n",
      "|156020     |2015-01-01 03:19:35.973|What is going on in a rotating magnet in a quantum scale?    |1    |1  |\n",
      "|156021     |2015-01-01 03:21:00.447|How to calculate U-spin for baryons                          |2    |1  |\n",
      "|156022     |2015-01-01 03:55:37.357|Advice on Major Selection                                    |1    |1  |\n",
      "|156025     |2015-01-01 04:32:12.91 |Deriving the Canonical Energy Momentum Tensor                |1    |1  |\n",
      "|156026     |2015-01-01 04:49:19.763|Does Bell's inequality hold for different particles?         |1    |3  |\n",
      "+-----------+-----------------------+-------------------------------------------------------------+-----+---+\n",
      "only showing top 20 rows\n",
      "\n"
     ]
    }
   ],
   "source": [
    "#job 4\n",
    "resultDF.orderBy('question_id', 'month').show(truncate=False)"
   ]
  },
  {
   "cell_type": "code",
   "execution_count": 9,
   "metadata": {},
   "outputs": [
    {
     "name": "stdout",
     "output_type": "stream",
     "text": [
      "**************************************************ANSWERS*****************************************************\n",
      "\n",
      "+-----------+---------+----------+----+-------+-----+\n",
      "|question_id|answer_id|date      |cmts|user_id|score|\n",
      "+-----------+---------+----------+----+-------+-----+\n",
      "|226592     |226595   |12/29/2015|3   |82798  |2    |\n",
      "|388057     |388062   |02/22/2018|8   |520    |21   |\n",
      "|293286     |293305   |11/17/2016|0   |47472  |2    |\n",
      "|442499     |442503   |11/21/2018|0   |137289 |0    |\n",
      "|293009     |293031   |11/16/2016|0   |83721  |0    |\n",
      "+-----------+---------+----------+----+-------+-----+\n",
      "only showing top 5 rows\n",
      "\n",
      "schema: \n",
      "root\n",
      " |-- question_id: long (nullable = true)\n",
      " |-- answer_id: long (nullable = true)\n",
      " |-- creation_date: timestamp (nullable = true)\n",
      " |-- comments: long (nullable = true)\n",
      " |-- user_id: long (nullable = true)\n",
      " |-- score: long (nullable = true)\n",
      "\n",
      "\n",
      "\n",
      "**********************************************QUESTIONS*****************************************************\n",
      "\n",
      "+-----------+---------------+----------+-------------------------------+-------------+----+-------+-----+\n",
      "|question_id|tags           |date      |title                          |acc_answer_id|cmts|user_id|views|\n",
      "+-----------+---------------+----------+-------------------------------+-------------+----+-------+-----+\n",
      "|443214     |[time]         |11/25/2018|Our understanding of dimensions|null         |6   |214052 |56   |\n",
      "|316255     |[optics, laser]|03/04/2017|Laser resonator mirror         |null         |1   |139510 |102  |\n",
      "|316845     |[atoms]        |03/06/2017|Removal of proton              |316852       |0   |140832 |227  |\n",
      "|353756     |[laser]        |08/25/2017|circular/ring/360 laser        |null         |3   |131284 |51   |\n",
      "|390569     |[x-rays]       |03/06/2018|Attenuation Coefficients       |null         |5   |187154 |41   |\n",
      "+-----------+---------------+----------+-------------------------------+-------------+----+-------+-----+\n",
      "only showing top 5 rows\n",
      "\n",
      "schema: \n",
      "root\n",
      " |-- question_id: long (nullable = true)\n",
      " |-- tags: array (nullable = true)\n",
      " |    |-- element: string (containsNull = true)\n",
      " |-- creation_date: timestamp (nullable = true)\n",
      " |-- title: string (nullable = true)\n",
      " |-- acc_answer_id: long (nullable = true)\n",
      " |-- comments: long (nullable = true)\n",
      " |-- user_id: long (nullable = true)\n",
      " |-- views: long (nullable = true)\n",
      "\n",
      "\n",
      "\n",
      "**********************************************THE NUMBERS*****************************************************\n",
      "\n"
     ]
    },
    {
     "name": "stderr",
     "output_type": "stream",
     "text": [
      "                                                                                \r"
     ]
    },
    {
     "name": "stdout",
     "output_type": "stream",
     "text": [
      "total questions asked: 86936\n",
      "questions with atleast 1 answer:      68173 (78.42%)\n",
      "questions without any answers:        18763 (21.58%)\n",
      "questions without an accepted answer: 53654 (61.72%)\n",
      "\n",
      "total answers provided: 110714\n",
      "answers that were accepted:     33282 (30.06%)\n",
      "answers that were not accepted: 77432 (69.94%)\n",
      "1.27 ratio of answers to questions\n"
     ]
    }
   ],
   "source": [
    "answersDF.createOrReplaceTempView(\"adfTab\")\n",
    "print('**************************************************ANSWERS**********************************\\\n",
    "*******************\\n')\n",
    "answersDF. \\\n",
    "    withColumn('creation_date',date_format('creation_date','MM/dd/yyyy')). \\\n",
    "    withColumnRenamed('creation_date','date'). \\\n",
    "    withColumnRenamed('comments','cmts'). \\\n",
    "    show(5,truncate=False)\n",
    "\n",
    "print('schema: ')\n",
    "answersDF.printSchema()\n",
    "print('\\n\\n**********************************************QUESTIONS****************************\\\n",
    "*************************\\n')\n",
    "questionsDF.withColumnRenamed('accepted_answer_id','acc_answer_id').createOrReplaceTempView(\"qdfTab\")\n",
    "spark.sql('SELECT * from qdfTab where (length(title) + length(string(tags))) < 41'). \\\n",
    "    withColumn('creation_date',date_format('creation_date','MM/dd/yyyy')). \\\n",
    "    withColumnRenamed('creation_date','date'). \\\n",
    "    withColumnRenamed('comments','cmts'). \\\n",
    "    show(5,truncate=False)\n",
    "\n",
    "print('schema: ')\n",
    "questionsDF.withColumnRenamed('accepted_answer_id','acc_answer_id').printSchema()\n",
    "\n",
    "print('\\n\\n**********************************************THE NUMBERS****************************\\\n",
    "*************************\\n')\n",
    "qids = set(questionsDF.select('question_id').rdd.map(lambda x : x[0]).collect())\n",
    "qids_a = set(answersDF.select('question_id').rdd.map(lambda x : x[0]).collect())\n",
    "\n",
    "aid = set(answersDF.select('answer_id').rdd.map(lambda x : x[0]).collect())\n",
    "aaid_q = set(questionsDF.select('accepted_answer_id').rdd.map(lambda x : x[0]).collect())\n",
    "aaid_q_nnull = set(questionsDF.select('accepted_answer_id').rdd.map(lambda x : x[0]).distinct().collect()) - set([None])\n",
    "\n",
    "print('total questions asked: ' + str(len(qids)))\n",
    "print('questions with atleast 1 answer:      ' + str(len(qids_a))+' ('+str(round(100*68173/86936,2))+'%)')\n",
    "print('questions without any answers:        ' + str(len(qids - qids_a))+' ('+str(round(100*18763/86936,2))+'%)')\n",
    "print('questions without an accepted answer: '+ str(questionsDF.filter('accepted_answer_id IS NULL').count()) \\\n",
    "                                              +' ('+str(round(100*53654/86936,2))+'%)'+'\\n')\n",
    "\n",
    "print('total answers provided: ' + str(len(aid)))\n",
    "print('answers that were accepted:     ' + str(len(aaid_q_nnull))+' ('+str(round(100*33282/110714,2))+'%)')\n",
    "print('answers that were not accepted: ' + str(len(aid - aaid_q_nnull))+' ('+str(round(100*77432/110714,2))+'%)')\n",
    "\n",
    "print(str(round(110714/86936,2))+ ' ratio of answers to questions')"
   ]
  },
  {
   "cell_type": "code",
   "execution_count": 10,
   "metadata": {},
   "outputs": [
    {
     "name": "stdout",
     "output_type": "stream",
     "text": [
      "Answers left-joined to the right of questions:\n",
      "\n",
      "+------+--------+----------------------+----------------+------+----+-----+------+------+--------+------+----+---+\n",
      "|idQ   |dateQ   |title                 |tags            |userQ |cmtQ|views|idAA  |idA   |dateA   |userA |cmtA|S  |\n",
      "+------+--------+----------------------+----------------+------+----+-----+------+------+--------+------+----+---+\n",
      "|155989|12312014|Frost bubble formation|ice,bubble      |68794 |1   |2032 |387977|387977|02222018|165299|2   |23 |\n",
      "|155989|12312014|Frost bubble formation|ice,bubble      |68794 |1   |2032 |387977|155994|12312014|68800 |1   |2  |\n",
      "|180684|05022015|Solar Power Fusion    |sun,fusion      |78234 |4   |121  |180691|180691|05022015|8007  |5   |2  |\n",
      "|208335|09212015|Designing a lens      |optics,lenses   |93423 |4   |99   |null  |208339|09212015|43164 |0   |2  |\n",
      "|218634|11152015|Transferable force    |forces,statics  |98564 |0   |31   |null  |218645|11152015|36562 |0   |0  |\n",
      "|219260|11182015|Weighing a baloon     |mass,buoyancy   |90248 |5   |502  |null  |220093|11222015|3257  |0   |0  |\n",
      "|219260|11182015|Weighing a baloon     |mass,buoyancy   |90248 |5   |502  |null  |219291|11182015|86822 |3   |2  |\n",
      "|225385|12222015|Lens combination      |optics,lenses   |85574 |0   |459  |225402|225402|12222015|75022 |2   |2  |\n",
      "|229403|01142016|Bayer filter mosaic   |camera,sensor   |78969 |4   |80   |229447|229447|01142016|103638|1   |1  |\n",
      "|237693|02162016|Is my mass relative?  |gravity,mass    |65035 |1   |47   |null  |237703|02162016|102490|1   |0  |\n",
      "|244633|03212016|3D Standing wave      |waves,vibrations|111610|2   |404  |null  |244653|03212016|94772 |1   |0  |\n",
      "|246064|03282016|Forces & Pressure     |forces,pressure |112654|2   |55   |null  |246074|03282016|46790 |2   |3  |\n",
      "|266774|07072016|Photon frequency      |energy,photons  |122979|2   |74   |null  |266786|07072016|1492  |0   |3  |\n",
      "|287903|10212016|Inverse of time       |time,frequency  |133773|2   |707  |null  |287917|10212016|97383 |0   |0  |\n",
      "|287903|10212016|Inverse of time       |time,frequency  |133773|2   |707  |null  |287907|10212016|23473 |2   |1  |\n",
      "|330916|05042017|Talking in Space      |acoustics,vacuum|155032|1   |53   |null  |330950|05042017|74763 |0   |1  |\n",
      "|354136|08272017|Physics of optics     |optics,lenses   |164906|0   |98   |null  |354141|08282017|114696|0   |3  |\n",
      "|354136|08272017|Physics of optics     |optics,lenses   |164906|0   |98   |null  |354139|08282017|157625|0   |0  |\n",
      "|354136|08272017|Physics of optics     |optics,lenses   |164906|0   |98   |null  |354138|08282017|26076 |0   |0  |\n",
      "|369078|11152017|Mass versus Weight    |mass,weight     |175314|1   |2974 |369100|369100|11152017|175562|2   |0  |\n",
      "|379576|01122018|Numerical Aperture    |optics,lenses   |112244|3   |117  |null  |379688|01132018|179366|2   |0  |\n",
      "|388501|02242018|Dark room lights      |photons,vision  |182869|4   |352  |388503|388503|02242018|520   |0   |13 |\n",
      "|410729|06082018|A viscosity unit      |units,viscosity |197867|5   |44   |410740|410740|06082018|1325  |0   |1  |\n",
      "|428242|09112018|Closed End Waves      |waves,acoustics |180165|2   |50   |428287|428287|09122018|179366|0   |2  |\n",
      "|437987|10302018|Torque on a shelf     |torque,statics  |211401|4   |72   |438030|438031|10312018|189477|2   |0  |\n",
      "|437987|10302018|Torque on a shelf     |torque,statics  |211401|4   |72   |438030|438030|10312018|112507|2   |1  |\n",
      "|437987|10302018|Torque on a shelf     |torque,statics  |211401|4   |72   |438030|438021|10312018|113773|2   |0  |\n",
      "|441972|11192018|What is in space?     |vacuum,space    |194923|4   |143  |441992|441992|11192018|213122|4   |3  |\n",
      "+------+--------+----------------------+----------------+------+----+-----+------+------+--------+------+----+---+\n",
      "\n",
      "\n",
      "count of answers left-joined to the right of questions: 110714\n",
      "\n"
     ]
    }
   ],
   "source": [
    "qDF = questionsDF.withColumnRenamed('comments', 'cmtQ'). \\\n",
    "    withColumnRenamed('user_id', 'userQ'). \\\n",
    "    withColumnRenamed('creation_date', 'dateQ'). \\\n",
    "    withColumnRenamed('question_id', 'idQ'). \\\n",
    "    withColumnRenamed('accepted_answer_id', 'idAA')\n",
    "        \n",
    "aDF = answersDF.withColumnRenamed('creation_date', 'dateA'). \\\n",
    "    withColumnRenamed('comments', 'cmtA'). \\\n",
    "    withColumnRenamed('user_id', 'userA'). \\\n",
    "    withColumnRenamed('question_id', 'idQ'). \\\n",
    "    withColumnRenamed('score', 'S'). \\\n",
    "    withColumnRenamed('answer_id', 'idA')\n",
    "\n",
    "jDF = aDF.join(qDF, 'idQ'). \\\n",
    "    withColumn('dateQ',date_format('dateQ','MMddyyyy')). \\\n",
    "    withColumn('dateA',date_format('dateA','MMddyyyy')). \\\n",
    "    orderBy(['idQ','idA','S','views'],ascending=[True,False,False])\n",
    "\n",
    "jDF.createOrReplaceTempView(\"jTab\")\n",
    "print('Answers left-joined to the right of questions:\\n')\n",
    "spark.sql('SELECT * from jTab where (length(title) + length(string(tags))) < 36 and size(tags)>1'). \\\n",
    "    select('idQ','dateQ','title','tags','userQ','cmtQ','views','idAA','idA','dateA','userA','cmtA','S'). \\\n",
    "    withColumn('tags',concat_ws(',',col('tags'))). \\\n",
    "    show(100,truncate=False)\n",
    "\n",
    "print('\\ncount of answers left-joined to the right of questions: ' + str(jDF.count()) +'\\n')"
   ]
  },
  {
   "cell_type": "code",
   "execution_count": 11,
   "metadata": {},
   "outputs": [
    {
     "name": "stdout",
     "output_type": "stream",
     "text": [
      "Questions left-joined to the right of answers:\n",
      "\n",
      "+------+--------+------+----+---+------+------+--------+----------------------+----------------+------+----+-----+\n",
      "|idA   |dateA   |userA |cmtA|S  |idQ   |idAA  |dateQ   |title                 |tags            |userQ |cmtQ|views|\n",
      "+------+--------+------+----+---+------+------+--------+----------------------+----------------+------+----+-----+\n",
      "|155994|12312014|68800 |1   |2  |155989|387977|12312014|Frost bubble formation|ice,bubble      |68794 |1   |2032 |\n",
      "|180691|05022015|8007  |5   |2  |180684|180691|05022015|Solar Power Fusion    |sun,fusion      |78234 |4   |121  |\n",
      "|208339|09212015|43164 |0   |2  |208335|null  |09212015|Designing a lens      |optics,lenses   |93423 |4   |99   |\n",
      "|218645|11152015|36562 |0   |0  |218634|null  |11152015|Transferable force    |forces,statics  |98564 |0   |31   |\n",
      "|219291|11182015|86822 |3   |2  |219260|null  |11182015|Weighing a baloon     |mass,buoyancy   |90248 |5   |502  |\n",
      "|220093|11222015|3257  |0   |0  |219260|null  |11182015|Weighing a baloon     |mass,buoyancy   |90248 |5   |502  |\n",
      "|225402|12222015|75022 |2   |2  |225385|225402|12222015|Lens combination      |optics,lenses   |85574 |0   |459  |\n",
      "|229447|01142016|103638|1   |1  |229403|229447|01142016|Bayer filter mosaic   |camera,sensor   |78969 |4   |80   |\n",
      "|237703|02162016|102490|1   |0  |237693|null  |02162016|Is my mass relative?  |gravity,mass    |65035 |1   |47   |\n",
      "|244653|03212016|94772 |1   |0  |244633|null  |03212016|3D Standing wave      |waves,vibrations|111610|2   |404  |\n",
      "|246074|03282016|46790 |2   |3  |246064|null  |03282016|Forces & Pressure     |forces,pressure |112654|2   |55   |\n",
      "|266786|07072016|1492  |0   |3  |266774|null  |07072016|Photon frequency      |energy,photons  |122979|2   |74   |\n",
      "|287907|10212016|23473 |2   |1  |287903|null  |10212016|Inverse of time       |time,frequency  |133773|2   |707  |\n",
      "|287917|10212016|97383 |0   |0  |287903|null  |10212016|Inverse of time       |time,frequency  |133773|2   |707  |\n",
      "|330950|05042017|74763 |0   |1  |330916|null  |05042017|Talking in Space      |acoustics,vacuum|155032|1   |53   |\n",
      "|354138|08282017|26076 |0   |0  |354136|null  |08272017|Physics of optics     |optics,lenses   |164906|0   |98   |\n",
      "|354139|08282017|157625|0   |0  |354136|null  |08272017|Physics of optics     |optics,lenses   |164906|0   |98   |\n",
      "|354141|08282017|114696|0   |3  |354136|null  |08272017|Physics of optics     |optics,lenses   |164906|0   |98   |\n",
      "|369100|11152017|175562|2   |0  |369078|369100|11152017|Mass versus Weight    |mass,weight     |175314|1   |2974 |\n",
      "|379688|01132018|179366|2   |0  |379576|null  |01122018|Numerical Aperture    |optics,lenses   |112244|3   |117  |\n",
      "|387977|02222018|165299|2   |23 |155989|387977|12312014|Frost bubble formation|ice,bubble      |68794 |1   |2032 |\n",
      "|388503|02242018|520   |0   |13 |388501|388503|02242018|Dark room lights      |photons,vision  |182869|4   |352  |\n",
      "|410740|06082018|1325  |0   |1  |410729|410740|06082018|A viscosity unit      |units,viscosity |197867|5   |44   |\n",
      "|428287|09122018|179366|0   |2  |428242|428287|09112018|Closed End Waves      |waves,acoustics |180165|2   |50   |\n",
      "|438021|10312018|113773|2   |0  |437987|438030|10302018|Torque on a shelf     |torque,statics  |211401|4   |72   |\n",
      "|438030|10312018|112507|2   |1  |437987|438030|10302018|Torque on a shelf     |torque,statics  |211401|4   |72   |\n",
      "|438031|10312018|189477|2   |0  |437987|438030|10302018|Torque on a shelf     |torque,statics  |211401|4   |72   |\n",
      "|441992|11192018|213122|4   |3  |441972|441992|11192018|What is in space?     |vacuum,space    |194923|4   |143  |\n",
      "+------+--------+------+----+---+------+------+--------+----------------------+----------------+------+----+-----+\n",
      "\n",
      "\n",
      "count of questions left-joined to the right of answers: 110714\n",
      "\n"
     ]
    }
   ],
   "source": [
    "jDF2 = qDF.join(aDF, 'idQ'). \\\n",
    "    withColumn('dateQ',date_format('dateQ','MMddyyyy')). \\\n",
    "    withColumn('dateA',date_format('dateA','MMddyyyy')). \\\n",
    "    orderBy('idA')\n",
    "\n",
    "jDF2.createOrReplaceTempView(\"jTab2\")\n",
    "print('Questions left-joined to the right of answers:\\n')\n",
    "spark.sql('SELECT * from jTab2 where (length(title) + length(string(tags))) < 36 and size(tags)>1'). \\\n",
    "    select('idA','dateA','userA','cmtA','S','idQ','idAA','dateQ','title','tags','userQ','cmtQ','views'). \\\n",
    "    withColumn('tags',concat_ws(',',col('tags'))). \\\n",
    "    show(100,truncate=False)\n",
    "\n",
    "print('\\ncount of questions left-joined to the right of answers: ' + str(jDF2.count()) +'\\n')"
   ]
  },
  {
   "cell_type": "code",
   "execution_count": 12,
   "metadata": {},
   "outputs": [
    {
     "name": "stdout",
     "output_type": "stream",
     "text": [
      "number of answers per question per month: \n",
      "\n",
      "+-----------+-----+---+\n",
      "|question_id|month|cnt|\n",
      "+-----------+-----+---+\n",
      "|     155989|    2|  1|\n",
      "|     155989|   12|  1|\n",
      "|     155990|    1|  1|\n",
      "|     155990|   12|  1|\n",
      "|     155992|   12|  1|\n",
      "|     155993|    1|  1|\n",
      "|     155995|    1|  3|\n",
      "|     155996|    1|  2|\n",
      "|     155996|    2|  1|\n",
      "|     155996|   11|  1|\n",
      "|     155997|    1|  3|\n",
      "|     155999|    1|  1|\n",
      "|     156008|    1|  2|\n",
      "|     156008|   11|  1|\n",
      "|     156016|    1|  1|\n",
      "|     156020|    1|  1|\n",
      "|     156021|    2|  1|\n",
      "|     156022|    1|  1|\n",
      "|     156025|    1|  1|\n",
      "|     156026|    1|  3|\n",
      "+-----------+-----+---+\n",
      "only showing top 20 rows\n",
      "\n",
      "answers_month total rows: 73030\n",
      "\n",
      "resultDF: \n",
      "\n",
      "+-----------+-----------------------+-------------------------------------------------------------+-----+---+\n",
      "|question_id|creation_date          |title                                                        |month|cnt|\n",
      "+-----------+-----------------------+-------------------------------------------------------------+-----+---+\n",
      "|155989     |2014-12-31 17:59:44.5  |Frost bubble formation                                       |2    |1  |\n",
      "|155989     |2014-12-31 17:59:44.5  |Frost bubble formation                                       |12   |1  |\n",
      "|155990     |2014-12-31 18:51:15.123|The abstract space of metrics in GR                          |1    |1  |\n",
      "|155990     |2014-12-31 18:51:15.123|The abstract space of metrics in GR                          |12   |1  |\n",
      "|155992     |2014-12-31 19:44:10.697|centrifugal force and radius of its circle                   |12   |1  |\n",
      "|155993     |2014-12-31 19:56:29.603|How can I estimate the cooking time of a roast?              |1    |1  |\n",
      "|155995     |2014-12-31 21:16:25.627|Why should a solution to the wave equation be finite?        |1    |3  |\n",
      "|155996     |2014-12-31 22:06:08.907|Why do we assume that rays from infinity are parallel?       |1    |2  |\n",
      "|155996     |2014-12-31 22:06:08.907|Why do we assume that rays from infinity are parallel?       |2    |1  |\n",
      "|155996     |2014-12-31 22:06:08.907|Why do we assume that rays from infinity are parallel?       |11   |1  |\n",
      "|155997     |2014-12-31 22:26:33.447|Why do square shaped cups spill easier than round cups?      |1    |3  |\n",
      "|155999     |2014-12-31 23:01:46.457|Diagonalizability as a measure of uncertainty (discrete case)|1    |1  |\n",
      "|156008     |2015-01-01 00:48:08.383|Capturing a light beam                                       |1    |2  |\n",
      "|156008     |2015-01-01 00:48:08.383|Capturing a light beam                                       |11   |1  |\n",
      "|156016     |2015-01-01 02:31:17.42 |The interference pattern of a wave along a line              |1    |1  |\n",
      "|156020     |2015-01-01 03:19:35.973|What is going on in a rotating magnet in a quantum scale?    |1    |1  |\n",
      "|156021     |2015-01-01 03:21:00.447|How to calculate U-spin for baryons                          |2    |1  |\n",
      "|156022     |2015-01-01 03:55:37.357|Advice on Major Selection                                    |1    |1  |\n",
      "|156025     |2015-01-01 04:32:12.91 |Deriving the Canonical Energy Momentum Tensor                |1    |1  |\n",
      "|156026     |2015-01-01 04:49:19.763|Does Bell's inequality hold for different particles?         |1    |3  |\n",
      "+-----------+-----------------------+-------------------------------------------------------------+-----+---+\n",
      "only showing top 20 rows\n",
      "\n",
      "resultDF #rows: 73030\n"
     ]
    }
   ],
   "source": [
    "print('number of answers per question per month: \\n')\n",
    "answers_month.orderBy('question_id','month','cnt').show()\n",
    "print('answers_month total rows: '+str(answers_month.count()))\n",
    "print('\\nresultDF: \\n')\n",
    "resultDF.orderBy('question_id', 'month').show(truncate=False)\n",
    "print('resultDF #rows: '+str(resultDF.count()))"
   ]
  },
  {
   "cell_type": "code",
   "execution_count": 13,
   "metadata": {},
   "outputs": [
    {
     "name": "stdout",
     "output_type": "stream",
     "text": [
      "questionsDF total # rows:                  86936\n",
      "questionsDF question_id # distinct:        86936 (total # of unique questions)\n",
      "questionsDF accepted_answer_id # distinct: 33283 (< 86936 because some questions have no answers)\n",
      "\n",
      "answersDF total # rows:           110714 (total # of unique answers)\n",
      "answersDF  answer_id  # distinct: 110714 (> 86936 because some questions have multiple proposed answers)\n",
      "answersDF question_id # distinct:  68173 (> 33283 because not some answers arent accepted)\n",
      "                                         (< 86936 because some questions arent answers)\n"
     ]
    }
   ],
   "source": [
    "print('questionsDF total # rows:                  '+str(questionsDF.select('question_id').count()))\n",
    "print('questionsDF question_id # distinct:        '+str(questionsDF.select('question_id').distinct().count())+' (total # of unique questions)')\n",
    "print('questionsDF accepted_answer_id # distinct: '+str(questionsDF.select('accepted_answer_id').distinct().count())+' (< 86936 because some questions have no answers)\\n')\n",
    "print('answersDF total # rows:           '+str(answersDF.select('question_id').count()) + ' (total # of unique answers)')\n",
    "print('answersDF  answer_id  # distinct: '+str(answersDF.select('answer_id').distinct().count())+ ' (> 86936 because some questions have multiple proposed answers)')\n",
    "print('answersDF question_id # distinct:  '+str(answersDF.select('question_id').distinct().count())+' (> 33283 because not some answers arent accepted)')\n",
    "print('                                         (< 86936 because some questions arent answers)')"
   ]
  }
 ],
 "metadata": {
  "kernelspec": {
   "display_name": "Python 3 (ipykernel)",
   "language": "python",
   "name": "python3"
  },
  "language_info": {
   "codemirror_mode": {
    "name": "ipython",
    "version": 3
   },
   "file_extension": ".py",
   "mimetype": "text/x-python",
   "name": "python",
   "nbconvert_exporter": "python",
   "pygments_lexer": "ipython3",
   "version": "3.10.4"
  }
 },
 "nbformat": 4,
 "nbformat_minor": 5
}
